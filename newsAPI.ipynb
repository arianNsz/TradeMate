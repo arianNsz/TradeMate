{
 "cells": [
  {
   "cell_type": "code",
   "execution_count": 4,
   "metadata": {},
   "outputs": [],
   "source": [
    "import os\n",
    "import sys\n",
    "import json\n",
    "import numpy as np\n",
    "import pandas as pd\n",
    "import requests"
   ]
  },
  {
   "cell_type": "code",
   "execution_count": 15,
   "metadata": {},
   "outputs": [],
   "source": [
    "myStr='http://newsapi.org/v2/everything?q=TESLA&from=2020-07-14&sortBy=popularity&apiKey=0cbcf6765ad049b993da332e79bb8933'"
   ]
  },
  {
   "cell_type": "code",
   "execution_count": 84,
   "metadata": {},
   "outputs": [],
   "source": [
    "ticker='tesla'"
   ]
  },
  {
   "cell_type": "code",
   "execution_count": 93,
   "metadata": {},
   "outputs": [],
   "source": [
    "url = ('http://newsapi.org/v2/everything?'\n",
    "       'q='\n",
    "       + ticker\n",
    "       +'&from=2020-07-15&'\n",
    "       'sortBy=popularity&'\n",
    "       'apiKey=0cbcf6765ad049b993da332e79bb8933&'\n",
    "       'language=en')"
   ]
  },
  {
   "cell_type": "code",
   "execution_count": 94,
   "metadata": {},
   "outputs": [],
   "source": [
    "response = requests.get(url)"
   ]
  },
  {
   "cell_type": "code",
   "execution_count": 95,
   "metadata": {},
   "outputs": [
    {
     "name": "stdout",
     "output_type": "stream",
     "text": [
      "{'status': 'ok', 'totalResults': 357, 'articles': [{'source': {'id': 'techcrunch', 'name': 'TechCrunch'}, 'author': 'Zack Whittaker', 'title': 'Many popular Twitter accounts simultaneously hacked to spread cryptocurrency scam', 'description': 'A number of high-profile cryptocurrency Twitter accounts were simultaneously hacked on Wednesday by attackers who used the accounts — some with millions of followers — to spread cryptocurrency scams. @bitcoin, @ripple, @coindesk, @coinbase, and @binance were …', 'url': 'http://techcrunch.com/2020/07/15/twitter-accounts-hacked-crypto-scam/', 'urlToImage': 'https://techcrunch.com/wp-content/uploads/2020/07/GettyImages-887657568.jpg?w=600', 'publishedAt': '2020-07-15T20:34:54Z', 'content': 'A number of high-profile Twitter accounts were simultaneously hacked on Wednesday by attackers who used the accounts some with millions of followers to spread a cryptocurrency scam.\\r\\n@bitcoin, @rippl… [+2161 chars]'}, {'source': {'id': 'mashable', 'name': 'Mashable'}, 'author': 'Jack Morse', 'title': \"Coronavirus 'exposure' soars at Tesla's Fremont plant, leak shows\", 'description': \"When it comes to the coronavirus, Elon Musk's sustained incompetence long ago took a turn for the dangerous. Now, an internal data leak from the Fremont Tesla plant brings into focus just how badly the billionaire's tantrum has backfired — even if only on his…\", 'url': 'https://mashable.com/article/elon-musk-tesla-fremont-plant-coronavirus-cases-rise/', 'urlToImage': 'https://mondrian.mashable.com/2020%252F07%252F15%252Fec%252F37f50f74d73042508b7b252040e3f774.e16b6.jpg%252F1200x630.jpg?signature=d0oaV8QPvngR7WpCbdfoCcHjxVg=', 'publishedAt': '2020-07-15T00:11:43Z', 'content': \"When it comes to the coronavirus, Elon Musk's sustained incompetence long ago took a turn for the dangerous. Now, an internal data leak from the Fremont Tesla plant brings into focus just how badly t… [+2279 chars]\"}, {'source': {'id': 'mashable', 'name': 'Mashable'}, 'author': 'Stan Schroeder', 'title': \"Elon Musk shares render of Berlin Gigafactory and yes, it's very pretty\", 'description': \"In case you didn't know, there's a massive Tesla factory currently being built on the outskirts of Berlin. And, judging from a render posted today by CEO Elon Musk, it's going to look very nice.\\xa0\\nMusk also shared some details about the factory, though it's ha…\", 'url': 'https://mashable.com/article/tesla-berlin-gigafactory-image/', 'urlToImage': 'https://mondrian.mashable.com/2020%252F07%252F15%252F4b%252F6cb41b33209249328772bd91d3f1f63b.c558f.jpg%252F1200x630.jpg?signature=9H45ErEYrhL3xAmtFxmm8_8mYvo=', 'publishedAt': '2020-07-15T10:12:12Z', 'content': \"In case you didn't know, there's a massive Tesla factory currently being built on the outskirts of Berlin. And, judging from a render posted today by CEO Elon Musk, it's going to look very nice.\\xa0\\r\\nMu… [+1310 chars]\"}, {'source': {'id': 'mashable', 'name': 'Mashable'}, 'author': 'Sasha Lekach', 'title': \"Nissan Ariya is just like its concept EV, only now it's a real Tesla Model Y competitor\", 'description': 'The Nissan Ariya made a splash last year at the Tokyo Motor Show as a concept electric SUV with a sleek interior and an advanced driving system built in. Now the car is a real thing coming to the U.S. late next year.\\nNissan is well-known for its Leaf electric…', 'url': 'https://mashable.com/article/nissan-ariya-electric-compact-suv-concept-model-y/', 'urlToImage': 'https://mondrian.mashable.com/2020%252F07%252F15%252Fda%252F81529ffd46884db3b31709be29f46fa2.17086.jpg%252F1200x630.jpg?signature=zcQbAY0djUt2B_4wrjGSLNInvmE=', 'publishedAt': '2020-07-15T05:30:40Z', 'content': 'The Nissan Ariya made a splash last year at the Tokyo Motor Show as a concept electric SUV with a sleek interior and an advanced driving system built in. Now the car is a real thing coming to the U.S… [+2497 chars]'}, {'source': {'id': 'reuters', 'name': 'Reuters'}, 'author': 'Reuters Editorial', 'title': \"No coronavirus risk to Tesla's Elon Musk after meeting with Oklahoma governor: spokesman - Reuters\", 'description': \"Tesla Inc Chief Executive Elon Musk and other Tesla employees are not at risk of having contracted the novel coronavirus after a July 3 meeting with Oklahoma's governor, who said on Wednesday he had tested positive for the virus, a spokesman for the governor …\", 'url': 'https://www.reuters.com/article/us-health-coronavirus-usa-oklahoma-tesla-idUSKCN24G2QP', 'urlToImage': 'https://s4.reutersmedia.net/resources/r/?m=02&d=20200715&t=2&i=1525857094&w=1200&r=LYNXNPEG6E1KZ', 'publishedAt': '2020-07-15T17:54:00Z', 'content': '(Reuters) - Tesla Inc (TSLA.O) Chief Executive Elon Musk and other Tesla employees are not at risk of having contracted the novel coronavirus after a July 3 meeting with Oklahoma’s governor, who said… [+395 chars]'}, {'source': {'id': 'reuters', 'name': 'Reuters'}, 'author': 'Tina Bellon', 'title': \"No coronavirus risk to Tesla's Elon Musk after meeting with Oklahoma governor - spokesman - Reuters India\", 'description': \"Tesla Inc Chief Executive Elon Musk and other Tesla employees are not at risk of having contracted the novel coronavirus after a July 3 meeting with Oklahoma's governor, who said on Wednesday he had tested positive for the virus, a spokesman for the governor …\", 'url': 'https://in.reuters.com/article/uk-health-coronavirus-usa-oklahoma-tesla-idINKCN24G2RD', 'urlToImage': 'https://s4.reutersmedia.net/resources/r/?m=02&d=20200715&t=2&i=1525862836&w=1200&r=LYNXNPEG6E1L9', 'publishedAt': '2020-07-15T18:45:00Z', 'content': '(Reuters) - Tesla Inc (TSLA.O) Chief Executive Elon Musk and other Tesla employees are not at risk of having contracted the novel coronavirus after a July 3 meeting with Oklahoma’s governor, who said… [+1606 chars]'}, {'source': {'id': 'reuters', 'name': 'Reuters'}, 'author': 'Reuters Editorial', 'title': 'Nissan unveils EV to take on Tesla, revive brand - Reuters', 'description': \"Nissan has unveiled a premium electric SUV, the Ariya, intended to help it take on Elon Musk's Tesla, and also bring a little shine back to the brand.\", 'url': 'https://www.reuters.com/video/watch/idP4WC?now=true', 'urlToImage': 'https://ajo.prod.reuters.tv/api/v2/img/5f0eb894e4b09631f6473668-1594800276537?location=LANDSCAPE', 'publishedAt': '2020-07-15T10:39:24Z', 'content': \"Posted \\r\\nNissan has unveiled a premium electric SUV, the Ariya, intended to help it take on Elon Musk's Tesla, and also bring a little shine back to the brand.\"}, {'source': {'id': 'reuters', 'name': 'Reuters'}, 'author': 'Reuters Editorial', 'title': 'Tesla secures tax breaks for cybertruck factory in Texas - Reuters India', 'description': 'A central Texas county that includes Austin on Tuesday approved a plan to provide millions in tax subsidies to Tesla Inc if it builds a $1.1 billion vehicle factory in the area.', 'url': 'https://in.reuters.com/article/texas-tesla-idINKCN24G05O', 'urlToImage': 'https://s3.reutersmedia.net/resources/r/?m=02&d=20200715&t=2&i=1525746538&w=1200&r=LYNXNPEG6E02P', 'publishedAt': '2020-07-15T01:39:00Z', 'content': '(Reuters) - A central Texas county that includes Austin on Tuesday approved a plan to provide millions in tax subsidies to Tesla Inc if it builds a $1.1 billion vehicle factory in the area. \\r\\nThe dec… [+1520 chars]'}, {'source': {'id': 'reuters', 'name': 'Reuters'}, 'author': 'April Joyner', 'title': 'Virus worries and FOMO drive options bets on surging tech giants - Reuters India', 'description': \"Options investors are ramping up bets on some of this year's biggest winners, including Amazon.com Inc, Netflix Inc and Tesla Inc, even as they turn cautious on the wider market amid a resurgent U.S. coronavirus outbreak.\", 'url': 'https://in.reuters.com/article/health-coronavirus-stock-options-analysi-idINKCN24G08H', 'urlToImage': 'https://s1.reutersmedia.net/resources/r/?m=02&d=20200715&t=2&i=1525749419&w=1200&r=LYNXNPEG6E042', 'publishedAt': '2020-07-15T02:19:00Z', 'content': 'NEW YORK (Reuters) - Options investors are ramping up bets on some of this year’s biggest winners, including Amazon.com Inc, Netflix Inc and Tesla Inc, even as they turn cautious on the wider market … [+3729 chars]'}, {'source': {'id': 'reuters', 'name': 'Reuters'}, 'author': 'Reuters Editorial', 'title': 'Twitter accounts of Musk, Gates apparently hacked - Reuters', 'description': 'The official Twitter accounts of billionaires Bill Gates and Elon Musk were apparently hacked as both accounts sought bitcoin donations on Wednesday.', 'url': 'https://www.reuters.com/article/us-twitter-cyber-idUSKCN24G32Q', 'urlToImage': 'https://s4.reutersmedia.net/resources/r/?m=02&d=20200715&t=2&i=1525875274&w=1200&r=LYNXNPEG6E1SX', 'publishedAt': '2020-07-15T21:01:00Z', 'content': 'WASHINGTON (Reuters) - The official Twitter accounts of billionaires Bill Gates and Elon Musk were apparently hacked as both accounts sought bitcoin donations on Wednesday. \\r\\nThe tweets on both accou… [+154 chars]'}, {'source': {'id': 'reuters', 'name': 'Reuters'}, 'author': 'Reuters Editorial', 'title': \"Factbox: Semi-automated driving systems: Not all are 'hands free' - Reuters\", 'description': 'At least five automakers offer some form of semi-automated driving system in the United States — but not all are truly \"hands free\" because they require the driver to keep his or her hands on the wheel.', 'url': 'https://www.reuters.com/article/us-autos-tech-handsfree-systems-factbox-idUSKCN24G1E4', 'urlToImage': 'https://s3.reutersmedia.net/resources/r/?m=02&d=20200715&t=2&i=1525800830&w=1200&r=LYNXNPEG6E0RK', 'publishedAt': '2020-07-15T11:11:00Z', 'content': '(Reuters) - At least five automakers offer some form of semi-automated driving system in the United States but not all are truly “hands free” because they require the driver to keep his or her hands … [+2005 chars]'}, {'source': {'id': 'reuters', 'name': 'Reuters'}, 'author': 'Ben Klayman', 'title': \"FOCUS-'Hands free': Automakers race to next level of not quite self-driving cars - Reuters\", 'description': 'Autopilot, ProPilot, CoPilot: Automakers have many names for new systems that allow for hands-free driving, but no safety or performance standards to follow as they roll out the most significant changes to vehicle technology in a generation.', 'url': 'https://www.reuters.com/article/us-autos-tech-handsfree-focus-idUSKCN24G14O', 'urlToImage': 'https://s2.reutersmedia.net/resources/r/?m=02&d=20200715&t=2&i=1525790814&w=1200&r=LYNXNPEG6E0KD', 'publishedAt': '2020-07-15T10:00:00Z', 'content': 'DETROIT (Reuters) - Autopilot, ProPilot, CoPilot: Automakers have many names for new systems that allow for hands-free driving, but no safety or performance standards to follow as they roll out the m… [+4783 chars]'}, {'source': {'id': 'reuters', 'name': 'Reuters'}, 'author': 'Ben Klayman', 'title': \"'Hands free': Automakers race to next level of not quite self-driving cars - Reuters India\", 'description': 'Autopilot, ProPilot, CoPilot: Automakers have many names for new systems that allow for hands-free driving, but no safety or performance standards to follow as they roll out the most significant changes to vehicle technology in a generation.', 'url': 'https://in.reuters.com/article/autos-tech-handsfree-focus-idINKCN24G182', 'urlToImage': 'https://s2.reutersmedia.net/resources/r/?m=02&d=20200715&t=2&i=1525793748&w=1200&r=LYNXNPEG6E0NG', 'publishedAt': '2020-07-15T10:24:00Z', 'content': 'DETROIT (Reuters) - Autopilot, ProPilot, CoPilot: Automakers have many names for new systems that allow for hands-free driving, but no safety or performance standards to follow as they roll out the m… [+4782 chars]'}, {'source': {'id': 'reuters', 'name': 'Reuters'}, 'author': 'Naomi Tajitsu', 'title': 'Nissan bets on new Ariya electric SUV to symbolise its revamp, but sales plans modest - Reuters UK', 'description': 'Nissan Motor Co <7201.T> on Wednesday unveiled the Ariya - an electric SUV and its first all-new global model in five years - hoping it will symbolise its road to recovery after more than a year of scandal and a precipitous decline into earnings losses.', 'url': 'https://uk.reuters.com/article/uk-nissan-suv-idUKKCN24G0IG', 'urlToImage': 'https://s4.reutersmedia.net/resources/r/?m=02&d=20200715&t=2&i=1525763206&w=1200&r=LYNXNPEG6E088', 'publishedAt': '2020-07-15T05:29:00Z', 'content': 'TOKYO/BEIJING (Reuters) - Nissan Motor Co (7201.T) on Wednesday unveiled the Ariya - an electric SUV and its first all-new global model in five years - hoping it will symbolise its road to recovery a… [+3360 chars]'}, {'source': {'id': 'reuters', 'name': 'Reuters'}, 'author': 'Naomi Tajitsu', 'title': 'Nissan bets on new Ariya electric SUV to symbolize its revamp, but sales plans modest - Reuters', 'description': 'Nissan Motor Co <7201.T> on Wednesday unveiled the Ariya - an electric SUV and its first all-new global model in five years - hoping it will symbolize its road to recovery after more than a year of scandal and a precipitous decline into earnings losses.', 'url': 'https://www.reuters.com/article/us-nissan-suv-idUSKCN24G0JT', 'urlToImage': 'https://s1.reutersmedia.net/resources/r/?m=02&d=20200715&t=2&i=1525765158&w=1200&r=LYNXNPEG6E092', 'publishedAt': '2020-07-15T05:49:00Z', 'content': 'TOKYO/BEIJING (Reuters) - Nissan Motor Co (7201.T) on Wednesday unveiled the Ariya - an electric SUV and its first all-new global model in five years - hoping it will symbolize its road to recovery a… [+3380 chars]'}, {'source': {'id': 'reuters', 'name': 'Reuters'}, 'author': 'Reuters Editorial', 'title': 'High-profile Twitter accounts swept up in wave of apparent hacking - Reuters India', 'description': 'A wave of tweets in apparent hacking swept through Twitter on Wednesday, with more than half a dozen high-profile accounts - belonging to U.S. presidential candidate Joe Biden, billionaire Bill Gates, and rapper Kanye West, among others - used to solicit bitc…', 'url': 'https://in.reuters.com/article/uk-twitter-cyber-idINKCN24G32S', 'urlToImage': 'https://s4.reutersmedia.net/resources/r/?m=02&d=20200715&t=2&i=1525879011&w=1200&r=LYNXNPEG6E1SZ', 'publishedAt': '2020-07-15T21:55:00Z', 'content': 'WASHINGTON (Reuters) - A wave of tweets in apparent hacking swept through Twitter (TWTR.N) on Wednesday, with more than half a dozen high-profile accounts - belonging to U.S. presidential candidate J… [+1206 chars]'}, {'source': {'id': 'reuters', 'name': 'Reuters'}, 'author': 'Breakingviews columnists', 'title': 'Breakingviews - Corona Capital: Moderna, Capital gains, Paper fold - Reuters UK', 'description': '(Reuters Breakingviews) - Corona Capital is a daily column updated throughout the day by Breakingviews columnists around the world with short, sharp pandemic-related insights.', 'url': 'https://uk.reuters.com/article/us-health-coronavirus-finance-breakingvi-idUKKCN24G29H', 'urlToImage': 'https://s1.reutersmedia.net/resources/r/?m=02&d=20200715&t=2&i=1525835655&w=1200&r=LYNXNPEG6E190', 'publishedAt': '2020-07-15T15:29:00Z', 'content': 'NEW YORK/LONDON/HONG KONG (Reuters Breakingviews) - Corona Capital is a daily column updated throughout the day by Breakingviews columnists around the world with short, sharp pandemic-related insight… [+5132 chars]'}, {'source': {'id': 'reuters', 'name': 'Reuters'}, 'author': 'Breakingviews columnists', 'title': 'Breakingviews - Corona Capital: Expense accounts, Zoom’s new box - Reuters', 'description': '(Reuters Breakingviews) - Corona Capital is a daily column updated throughout the day by Breakingviews columnists around the world with short, sharp pandemic-related insights.', 'url': 'https://www.reuters.com/article/us-health-coronavirus-finance-breakingvi-idUSKCN24G31X', 'urlToImage': 'https://s3.reutersmedia.net/resources/r/?m=02&d=20200715&t=2&i=1525874468&w=1200&r=LYNXNPEG6E1SL', 'publishedAt': '2020-07-15T20:59:00Z', 'content': 'NEW YORK/LONDON/HONG KONG (Reuters Breakingviews) - Corona Capital is a daily column updated throughout the day by Breakingviews columnists around the world with short, sharp pandemic-related insight… [+7141 chars]'}, {'source': {'id': 'business-insider', 'name': 'Business Insider'}, 'author': 'Reuters', 'title': \"Local Texas officials approved nearly $65 million in tax subsidies for Tesla to build its Cybertruck factory near Austin —\\xa0but there's still no word on Elon Musk's decision (TSLA)\", 'description': '<ul>\\n<li>Officials in Travis County, Texas — which includes Austin — approved $14.7 million worth of tax rebates for a potential Tesla factory on Tuesday.\\xa0</li>\\n<li>The county deal would be on top of $50 million from a local school district, totalling nearly …', 'url': 'https://www.businessinsider.com/texas-county-approves-tax-subsidies-for-new-tesla-vehicle-factory-2020-7', 'urlToImage': 'https://i.insider.com/5f0f02f31918245edf7dad18?width=1200&format=jpeg', 'publishedAt': '2020-07-15T13:24:00Z', 'content': 'A central Texas county that includes Austin on Tuesday approved a plan to provide millions in tax subsidies to Tesla if it builds a $1.1 billion vehicle factory in the area.\\r\\nThe decision marks a ste… [+1501 chars]'}, {'source': {'id': 'business-insider', 'name': 'Business Insider'}, 'author': 'Saloni Sardana', 'title': \"An auto industry legend questioned Tesla's eye watering stock rally, and said it has 'nothing to do with reality'\", 'description': '<ul>\\n<li>Automotive veteran Bob Lutz has questioned how Tesla\\xa0has surged to have the highest market cap of any automotive company in the US while only producing 300,000 cars a year.\\xa0</li>\\n<li>He told CNBC\\'s Squawk box: \"The fact that Tesla is worth more than …', 'url': 'https://www.businessinsider.com/tesla-stock-price-rally-nothing-to-do-with-reality-lutz-2020-7', 'urlToImage': 'https://images.markets.businessinsider.com/image/5ba2816d64dce8fb438b59e3', 'publishedAt': '2020-07-15T10:20:30Z', 'content': \"Tesla's stock has exploded more than 250% since the start of 2020 alone, but an automotive legend who has frequently questioned the electric car maker once again slammed the firm's breathless rally, … [+2060 chars]\"}]}\n"
     ]
    }
   ],
   "source": [
    "print(response.json())"
   ]
  },
  {
   "cell_type": "code",
   "execution_count": 96,
   "metadata": {},
   "outputs": [
    {
     "name": "stdout",
     "output_type": "stream",
     "text": [
      "Many popular Twitter accounts simultaneously hacked to spread cryptocurrency scam\n",
      "\n",
      "\n",
      "\n",
      "Coronavirus 'exposure' soars at Tesla's Fremont plant, leak shows\n",
      "\n",
      "\n",
      "\n",
      "Elon Musk shares render of Berlin Gigafactory and yes, it's very pretty\n",
      "\n",
      "\n",
      "\n",
      "Nissan Ariya is just like its concept EV, only now it's a real Tesla Model Y competitor\n",
      "\n",
      "\n",
      "\n",
      "No coronavirus risk to Tesla's Elon Musk after meeting with Oklahoma governor: spokesman - Reuters\n",
      "\n",
      "\n",
      "\n",
      "No coronavirus risk to Tesla's Elon Musk after meeting with Oklahoma governor - spokesman - Reuters India\n",
      "\n",
      "\n",
      "\n",
      "Nissan unveils EV to take on Tesla, revive brand - Reuters\n",
      "\n",
      "\n",
      "\n",
      "Tesla secures tax breaks for cybertruck factory in Texas - Reuters India\n",
      "\n",
      "\n",
      "\n",
      "Virus worries and FOMO drive options bets on surging tech giants - Reuters India\n",
      "\n",
      "\n",
      "\n",
      "Twitter accounts of Musk, Gates apparently hacked - Reuters\n",
      "\n",
      "\n",
      "\n",
      "Factbox: Semi-automated driving systems: Not all are 'hands free' - Reuters\n",
      "\n",
      "\n",
      "\n",
      "FOCUS-'Hands free': Automakers race to next level of not quite self-driving cars - Reuters\n",
      "\n",
      "\n",
      "\n",
      "'Hands free': Automakers race to next level of not quite self-driving cars - Reuters India\n",
      "\n",
      "\n",
      "\n",
      "Nissan bets on new Ariya electric SUV to symbolise its revamp, but sales plans modest - Reuters UK\n",
      "\n",
      "\n",
      "\n",
      "Nissan bets on new Ariya electric SUV to symbolize its revamp, but sales plans modest - Reuters\n",
      "\n",
      "\n",
      "\n",
      "High-profile Twitter accounts swept up in wave of apparent hacking - Reuters India\n",
      "\n",
      "\n",
      "\n",
      "Breakingviews - Corona Capital: Moderna, Capital gains, Paper fold - Reuters UK\n",
      "\n",
      "\n",
      "\n",
      "Breakingviews - Corona Capital: Expense accounts, Zoom’s new box - Reuters\n",
      "\n",
      "\n",
      "\n",
      "Local Texas officials approved nearly $65 million in tax subsidies for Tesla to build its Cybertruck factory near Austin — but there's still no word on Elon Musk's decision (TSLA)\n",
      "\n",
      "\n",
      "\n",
      "An auto industry legend questioned Tesla's eye watering stock rally, and said it has 'nothing to do with reality'\n",
      "\n",
      "\n",
      "\n"
     ]
    }
   ],
   "source": [
    "for article in response.json()['articles']:\n",
    "    print(article['title'])\n",
    "    print('\\n\\n')"
   ]
  },
  {
   "cell_type": "code",
   "execution_count": 97,
   "metadata": {},
   "outputs": [],
   "source": []
  },
  {
   "cell_type": "code",
   "execution_count": 98,
   "metadata": {},
   "outputs": [],
   "source": [
    "key = '0cbcf6765ad049b993da332e79bb8933'#os.environ['0cbcf6765ad049b993da332e79bb8933']\n",
    "api = NewsApiClient(api_key=key)"
   ]
  },
  {
   "cell_type": "code",
   "execution_count": 131,
   "metadata": {},
   "outputs": [],
   "source": [
    "from newsapi import NewsApiClient\n",
    "import datetime\n",
    "\n",
    "def news_since_yesterday(ticker):\n",
    "    yesterday= datetime.date.today() - datetime.timedelta(days=1)\n",
    "    yesterday = yesterday.strftime('%Y-%m-%d')+'T16:29:00'\n",
    "    \n",
    "    news= api.get_everything(qintitle=ticker,\n",
    "                           sort_by='popularity',\n",
    "                           from_param=yesterday,\n",
    "                           language='en')\n",
    "    \n",
    "    return news\n",
    "\n"
   ]
  },
  {
   "cell_type": "code",
   "execution_count": 136,
   "metadata": {},
   "outputs": [],
   "source": [
    "tesla = news_since_yesterday('AAPL')"
   ]
  },
  {
   "cell_type": "code",
   "execution_count": 137,
   "metadata": {},
   "outputs": [
    {
     "name": "stdout",
     "output_type": "stream",
     "text": [
      "Needham raises AAPL target to $450 on Wearables and Services strengths\n",
      "\n",
      "\n",
      "\n",
      "In a rare move from Apple, the new iPhone 12 could be cheaper than most other 5G phones (AAPL)\n",
      "\n",
      "\n",
      "\n",
      "With no mandate to shut down, even if employees get sick, one expert calls Silicon Valley's reopening 'a very easy route of transmission' (FB, GOOGL, GOOG, AAPL, AMZN)\n",
      "\n",
      "\n",
      "\n",
      "Is Apple (AAPL) Stock Worth Your Attention Right Now?\n",
      "\n",
      "\n",
      "\n",
      "Apple (NASDAQ: AAPL) Wins a Major Reprieve as the Directive by the EC for Ireland to Collect $15 Billion in Taxes From the Company Stands Annulled\n",
      "\n",
      "\n",
      "\n"
     ]
    }
   ],
   "source": [
    "for article in tesla['articles']:\n",
    "    print(article['title'])\n",
    "    print('\\n\\n')"
   ]
  },
  {
   "cell_type": "code",
   "execution_count": null,
   "metadata": {},
   "outputs": [],
   "source": []
  }
 ],
 "metadata": {
  "kernelspec": {
   "display_name": "Python 3",
   "language": "python",
   "name": "python3"
  },
  "language_info": {
   "codemirror_mode": {
    "name": "ipython",
    "version": 3
   },
   "file_extension": ".py",
   "mimetype": "text/x-python",
   "name": "python",
   "nbconvert_exporter": "python",
   "pygments_lexer": "ipython3",
   "version": "3.7.7"
  }
 },
 "nbformat": 4,
 "nbformat_minor": 4
}
